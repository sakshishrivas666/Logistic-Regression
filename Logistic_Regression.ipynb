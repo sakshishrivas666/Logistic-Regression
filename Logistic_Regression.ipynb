{
  "nbformat": 4,
  "nbformat_minor": 0,
  "metadata": {
    "colab": {
      "provenance": []
    },
    "kernelspec": {
      "name": "python3",
      "display_name": "Python 3"
    },
    "language_info": {
      "name": "python"
    }
  },
  "cells": [
    {
      "cell_type": "markdown",
      "source": [
        "# Theoretical"
      ],
      "metadata": {
        "id": "0yUFI9fODtz3"
      }
    },
    {
      "cell_type": "markdown",
      "source": [
        "#1.  What is Logistic Regression, and how does it differ from Linear Regression ?\n",
        "\n",
        "  - Logistic Regression is a statistical model used for binary classification tasks. It predicts the probability of an instance belonging to a particular class. Unlike Linear Regression, which predicts a continuous output, Logistic Regression uses a logistic function (sigmoid function) to map the output of a linear equation to a probability between 0 and 1.\n",
        "\n",
        "#1. Output Type:\n",
        "  Linear Regression predicts a continuous value, while Logistic Regression predicts a probability (between 0 and 1) which is then used for classification.\n",
        "\n",
        "#2. Equation:\n",
        "Linear Regression uses a linear equation ($y = mx + b$$y = mx + b$), while Logistic Regression uses the logistic function applied to a linear equation ($\\text{probability} = \\frac{1}{1 + e^{-(mx+b)}}$$\\text{probability} = \\frac{1}{1 + e^{-(mx+b)}}$).\n",
        "\n",
        "#3. Purpose:\n",
        "Linear Regression is used for regression tasks (predicting a continuous value), while Logistic Regression is used for classification tasks (predicting a class label).\n",
        "\n",
        "#4.Cost Function:\n",
        "Linear Regression typically uses Mean Squared Error (MSE), while Logistic Regression uses log loss (cross-entropy)."
      ],
      "metadata": {
        "id": "hLuOusUIDt33"
      }
    },
    {
      "cell_type": "markdown",
      "source": [
        "#2.  What is the mathematical equation of Logistic Regression ?\n",
        "\n",
        "  - The mathematical equation of Logistic Regression is:\n",
        "\n",
        "𝑃\n",
        "(\n",
        "𝑌\n",
        "=\n",
        "1\n",
        "∣\n",
        "𝑋\n",
        ")\n",
        "=\n",
        "1\n",
        "/\n",
        "1\n",
        "+\n",
        "𝑒\n",
        "−\n",
        "(\n",
        "𝛽\n",
        "0\n",
        "+\n",
        "𝛽\n",
        "1\n",
        "𝑋\n",
        "1\n",
        "+\n",
        "𝛽\n",
        "2\n",
        "𝑋\n",
        "2\n",
        "+\n",
        "⋯\n",
        "+\n",
        "𝛽\n",
        "𝑛\n",
        "𝑋\n",
        "𝑛\n",
        ")\n",
        "\n",
        "\n",
        "\n",
        "\n",
        "Where:\n",
        "𝑃\n",
        "(\n",
        "𝑌\n",
        "=\n",
        "1\n",
        "∣\n",
        "𝑋\n",
        ")\n",
        "P(Y=1∣X): Probability that the output\n",
        "𝑌\n",
        "Y is 1 given the input features\n",
        "𝑋\n",
        "X\n",
        "\n",
        "𝛽\n",
        "0\n",
        "β\n",
        "0\n",
        "​\n",
        " : Intercept term (bias)\n",
        "\n",
        "𝛽\n",
        "1\n",
        ",\n",
        "𝛽\n",
        "2\n",
        ",\n",
        "…\n",
        ",\n",
        "𝛽\n",
        "𝑛\n",
        "β\n",
        "1\n",
        "​\n",
        " ,β\n",
        "2\n",
        "​\n",
        " ,…,β\n",
        "n\n",
        "​\n",
        " : Coefficients of the features\n",
        "\n",
        "𝑋\n",
        "1\n",
        ",\n",
        "𝑋\n",
        "2\n",
        ",\n",
        "…\n",
        ",\n",
        "𝑋\n",
        "𝑛\n",
        "X\n",
        "1\n",
        "​\n",
        " ,X\n",
        "2\n",
        "​\n",
        " ,…,X\n",
        "n\n",
        "​\n",
        " : Input features\n",
        "\n",
        "𝑒\n",
        "e: Euler’s number (approx. 2.718)\n",
        "\n",
        "This equation applies the sigmoid (logistic) function to a linear combination of the input variables to model probabilities between 0 and 1.\n",
        "\n",
        "\n",
        "\n",
        "\n",
        "\n",
        "\n",
        "\n",
        "\n",
        "\n"
      ],
      "metadata": {
        "id": "tt_b62K2Dt-n"
      }
    },
    {
      "cell_type": "markdown",
      "source": [
        "#3.  Why do we use the Sigmoid function in Logistic Regression ?\n",
        "\n",
        "  - Reasons for using the Sigmoid function:\n",
        "\n",
        "#1.Probability Output:\n",
        "It converts any real-valued number (from the linear regression equation) into a value between 0 and 1, which can be interpreted as a probability.\n",
        "\n",
        "#2. Binary Classification:\n",
        "Logistic Regression is used to predict binary outcomes (e.g., yes/no, 0/1, true/false). The Sigmoid function helps in making this decision by setting a threshold (commonly 0.5).\n",
        "\n",
        "#3. Mathematically Convenient:\n",
        "Its derivative is easy to compute, which simplifies gradient descent optimization during model training.\n",
        "\n"
      ],
      "metadata": {
        "id": "T9cJnYfGDuCn"
      }
    },
    {
      "cell_type": "markdown",
      "source": [
        "#4.  What is the cost function of Logistic Regression ?\n",
        "\n",
        "  - The cost function of Logistic Regression is called log loss or binary cross-entropy. It measures the difference between the actual label and the predicted probability. It penalizes wrong predictions more when the predicted probability is far from the true label. The goal is to minimize this cost to improve the accuracy of the model.\n",
        "\n",
        "\n",
        "\n",
        "\n",
        "\n",
        "\n",
        "\n",
        "\n",
        "\n"
      ],
      "metadata": {
        "id": "ReYA_Q1ZDuGO"
      }
    },
    {
      "cell_type": "markdown",
      "source": [
        "#5.  What is Regularization in Logistic Regression? Why is it needed ?\n",
        "\n",
        "#defination:-\n",
        "Regularization in Logistic Regression is a technique used to reduce overfitting by adding a penalty term to the cost function, which discourages the model from assigning very large weights to the features. This helps the model perform better on unseen data by simplifying it.\n",
        "\n",
        "# Regularization needed\n",
        "Logistic Regression can overfit when the model becomes too complex (too many features or high feature weights).\n",
        "\n",
        "Overfitting means the model performs well on training data but poorly on unseen/test data.\n",
        "\n",
        "Regularization penalizes large coefficients, discouraging the model from fitting noise in the data.\n",
        "\n",
        "\n",
        "\n",
        "\n",
        "\n",
        "\n",
        "\n",
        "\n",
        "\n"
      ],
      "metadata": {
        "id": "fiRsQsTADuKH"
      }
    },
    {
      "cell_type": "markdown",
      "source": [
        "#6.  Explain the difference between Lasso, Ridge, and Elastic Net regression.\n",
        "\n",
        "# 1. Ridge Regression (L2 Regularization):\n",
        "Penalty: Adds the sum of the squares of the coefficients to the loss function.\n",
        "\n",
        "Formula:\n",
        "Cost = RSS + λ ∑(βᵢ²)\n",
        "\n",
        "Effect: Shrinks coefficients but does not reduce them to zero.\n",
        "\n",
        "Use Case: When you want to reduce model complexity but keep all variables.\n",
        "\n",
        "# 2. Lasso Regression (L1 Regularization):\n",
        "Penalty: Adds the sum of the absolute values of the coefficients to the loss function.\n",
        "\n",
        "Formula:\n",
        "Cost = RSS + λ ∑(|βᵢ|)\n",
        "\n",
        "Effect: Shrinks some coefficients to exactly zero, performing feature selection.\n",
        "\n",
        "Use Case: When you want a sparse model (select only the most important variables).\n",
        "\n",
        "#3. Elastic Net Regression (Combination of L1 and L2):\n",
        "Penalty: Combines both L1 and L2 penalties.\n",
        "\n",
        "Formula:\n",
        "Cost = RSS + λ₁ ∑(|βᵢ|) + λ₂ ∑(βᵢ²)\n",
        "\n",
        "Effect: Balances the benefits of Ridge and Lasso.\n",
        "\n",
        "Use Case: Useful when there are many correlated features or when Lasso alone performs poorly.\n",
        "\n"
      ],
      "metadata": {
        "id": "hLsYW98aML-4"
      }
    },
    {
      "cell_type": "markdown",
      "source": [
        "#7.  When should we use Elastic Net instead of Lasso or Ridge ?\n",
        "\n",
        "#1. There are many correlated features\n",
        "Lasso may randomly pick one feature and ignore others.\n",
        "\n",
        "Ridge keeps all but doesn’t eliminate any.\n",
        "\n",
        "Elastic Net keeps groups of correlated features, improving stability.\n",
        "\n",
        "#2. Number of features > number of observations (p > n)\n",
        "Lasso struggles in this high-dimensional case.\n",
        "\n",
        "Elastic Net handles it better by combining L1 and L2 penalties.\n",
        "\n",
        "#3. You want both:\n",
        "Feature selection (like Lasso)\n",
        "\n",
        "Coefficient shrinkage (like Ridge)\n",
        "→ Elastic Net combines L1 (sparse) and L2 (smooth) penalties.\n",
        "\n",
        "\n",
        "# Elastic Net is preferred when:\n",
        "Features are correlated\n",
        "\n",
        "You want balanced regularization\n",
        "\n",
        "Lasso alone underperforms\n",
        "\n",
        "You’re working with high-dimensional data\n",
        "\n"
      ],
      "metadata": {
        "id": "5Jd-5lm5MMGB"
      }
    },
    {
      "cell_type": "markdown",
      "source": [
        "#8. What is the impact of the regularization parameter (λ) in Logistic Regression ?\n",
        "\n",
        "# High λ (Large Regularization):\n",
        "Adds a strong penalty to large coefficients.\n",
        "\n",
        "Reduces overfitting by making the model simpler.\n",
        "\n",
        "May cause underfitting if too large (model becomes too simple).\n",
        "\n",
        "Coefficients shrink toward zero.\n",
        "\n",
        "#🔹 Low λ (Little Regularization):\n",
        "Adds a weak penalty to coefficients.\n",
        "\n",
        "Model fits the training data more closely.\n",
        "\n",
        "Higher risk of overfitting.\n",
        "\n",
        "Coefficients can become large and unstable.\n",
        "\n",
        "🔹 λ = 0:\n",
        "No regularization.\n",
        "\n",
        "Model may fit the training data perfectly (high overfitting risk).\n",
        "\n"
      ],
      "metadata": {
        "id": "-ZpsQul2MMJz"
      }
    },
    {
      "cell_type": "markdown",
      "source": [
        "#9.  What are the key assumptions of Logistic Regression ?\n",
        "\n",
        "#1. Binary or Multiclass Output:\n",
        "The dependent variable should be binary (0/1) or categorical (in case of multinomial logistic regression).\n",
        "\n",
        "#2.Independence of Observations:\n",
        "Each observation should be independent; no repeated measures or correlated data.\n",
        "\n",
        "#3. No Multicollinearity:\n",
        "Independent variables should not be highly correlated with each other.\n",
        "\n",
        "#4. Linearity of Logit:\n",
        "There should be a linear relationship between the logit (log-odds) of the outcome and the independent variables.\n",
        "\n",
        "#5. Large Sample Size:\n",
        "Logistic regression performs better with a large sample size, especially when the event is rare."
      ],
      "metadata": {
        "id": "YwDlOj5dMMNg"
      }
    },
    {
      "cell_type": "markdown",
      "source": [
        "#10.  What are some alternatives to Logistic Regression for classification tasks ?\n",
        "\n",
        "#1. Decision Trees\n",
        "Simple and interpretable.\n",
        "\n",
        "Handles non-linear relationships.\n",
        "\n",
        "Can overfit if not pruned.\n",
        "\n",
        "#2. Random Forest\n",
        "Ensemble of decision trees.\n",
        "\n",
        "Reduces overfitting and improves accuracy.\n",
        "\n",
        "Less interpretable than a single tree.\n",
        "\n",
        "#3. Support Vector Machines (SVM)\n",
        "Effective for high-dimensional data.\n",
        "\n",
        "Can model non-linear boundaries using kernels.\n",
        "\n",
        "May be slower with large datasets.\n",
        "\n",
        "#4. K-Nearest Neighbors (KNN)\n",
        "Instance-based (lazy learning).\n",
        "\n",
        "Simple and non-parametric.\n",
        "\n",
        "Can be computationally expensive with large data.\n",
        "\n",
        "#5. Naive Bayes\n",
        "Based on Bayes’ Theorem with independence assumptions.\n",
        "\n",
        "Fast and effective for text classification.\n",
        "\n",
        "Assumptions may not always hold true."
      ],
      "metadata": {
        "id": "ER0SZPR9MMRI"
      }
    },
    {
      "cell_type": "markdown",
      "source": [
        "#11.  What are Classification Evaluation Metrics ?\n",
        "\n",
        "#1. Accuracy\n",
        "Definition: Proportion of correctly predicted instances over total instances.\n",
        "\n",
        "Formula:\n",
        "\n",
        "Accuracy\n",
        "=\n",
        "𝑇\n",
        "𝑃\n",
        "+\n",
        "𝑇\n",
        "𝑁\n",
        "/\n",
        "𝑇\n",
        "𝑃\n",
        "+\n",
        "𝑇\n",
        "𝑁\n",
        "+\n",
        "𝐹\n",
        "𝑃\n",
        "+\n",
        "𝐹\n",
        "𝑁\n",
        "\n",
        "#2. Precision\n",
        "Definition: Proportion of correctly predicted positive instances out of all predicted positives.\n",
        "\n",
        "Formula:\n",
        "\n",
        "Precision\n",
        "=\n",
        "𝑇\n",
        "𝑃\n",
        "/\n",
        "𝑇\n",
        "𝑃\n",
        "+\n",
        "𝐹\n",
        "𝑃\n",
        "\n",
        "Use: Important when false positives are costly (e.g., spam detection).\n",
        "\n",
        "#3. Recall (Sensitivity or True Positive Rate)\n",
        "Definition: Proportion of actual positives correctly predicted.\n",
        "\n",
        "Formula:\n",
        "\n",
        "Recall\n",
        "=\n",
        "𝑇\n",
        "𝑃\n",
        "/\n",
        "𝑇\n",
        "𝑃\n",
        "+\n",
        "𝐹\n",
        "𝑁\n",
        "\n",
        "\n",
        "Use: Important when false negatives are costly (e.g., disease detection).\n",
        "\n",
        "#4. F1-Score\n",
        "Definition: Harmonic mean of precision and recall.\n",
        "\n",
        "Formula:\n",
        "\n",
        "F1 Score\n",
        "=\n",
        "2\n",
        "×\n",
        "𝑃\n",
        "𝑟\n",
        "𝑒\n",
        "𝑐\n",
        "𝑖\n",
        "𝑠\n",
        "𝑖\n",
        "𝑜\n",
        "𝑛\n",
        "×\n",
        "𝑅\n",
        "𝑒\n",
        "𝑐\n",
        "𝑎\n",
        "𝑙\n",
        "𝑙\n",
        "/\n",
        "𝑃\n",
        "𝑟\n",
        "𝑒\n",
        "𝑐\n",
        "𝑖\n",
        "𝑠\n",
        "𝑖\n",
        "𝑜\n",
        "𝑛\n",
        "+\n",
        "𝑅\n",
        "𝑒\n",
        "𝑐\n",
        "𝑎\n",
        "𝑙\n",
        "𝑙\n",
        "\n",
        "\n",
        "Use: Balances precision and recall in one metric.\n",
        "\n",
        "#5. Confusion Matrix\n",
        "Definition: A matrix that shows the counts of:\n",
        "\n",
        "TP: True Positives\n",
        "\n",
        "TN: True Negatives\n",
        "\n",
        "FP: False Positives\n",
        "\n",
        "FN: False Negatives\n",
        "\n",
        "Helps in computing the above metrics and understanding misclassifications.\n",
        "\n"
      ],
      "metadata": {
        "id": "9mFLGTT3MMUo"
      }
    },
    {
      "cell_type": "markdown",
      "source": [
        "#12.  How does class imbalance affect Logistic Regression ?\n",
        "\n",
        "# 1. Biased Predictions\n",
        "Logistic Regression tends to favor the majority class, because it tries to minimize the overall error.\n",
        "\n",
        "This can result in the model predicting the majority class most of the time, ignoring the minority class.\n",
        "\n",
        "#2. Misleading Accuracy\n",
        "With imbalanced classes, overall accuracy becomes misleading. For example, if 95% of samples belong to one class, a model that always predicts that class will still have 95% accuracy — but it's not useful.\n",
        "\n",
        "#3. Poor Recall for Minority Class\n",
        "The model often has low recall (sensitivity) for the minority class, meaning it fails to identify a large number of true positive cases.\n",
        "\n",
        "#4. Skewed Decision Boundary\n",
        "The logistic regression model may produce a decision boundary that is closer to the minority class, making it even harder to correctly classify those examples.\n",
        "\n"
      ],
      "metadata": {
        "id": "_sYvzPzRMMYh"
      }
    },
    {
      "cell_type": "markdown",
      "source": [
        "#13.  What is Hyperparameter Tuning in Logistic Regression ?\n",
        "\n",
        "# Hyperparameters in Logistic Regression\n",
        "These are settings not learned from data but manually set before training. Common hyperparameters include:\n",
        "\n",
        "#1. Regularization strength (λ or C):\n",
        "\n",
        "Inverse of regularization parameter (C = 1/λ in scikit-learn).\n",
        "\n",
        "Controls how much penalty is applied to model complexity.\n",
        "\n",
        "Lower C (strong regularization) → simpler model; higher C → more flexible model.\n",
        "\n",
        "#2. Penalty type:\n",
        "\n",
        "'l1' (Lasso), 'l2' (Ridge), or 'elasticnet'.\n",
        "\n",
        "Determines the type of regularization.\n",
        "\n",
        "#3. Solver:\n",
        "\n",
        "Optimization algorithm ('liblinear', 'saga', 'lbfgs', etc.).\n",
        "\n",
        "Some solvers only support specific penalties.\n",
        "\n",
        "#4. Maximum iterations (max_iter)\n",
        "\n",
        "Controls how long the algorithm runs during optimization"
      ],
      "metadata": {
        "id": "gg7JyhlFMMcC"
      }
    },
    {
      "cell_type": "markdown",
      "source": [
        "#14. What are different solvers in Logistic Regression? Which one should be used ?\n",
        "\n",
        "Different Solvers in Logistic Regression (Scikit-learn)\n",
        "\n",
        "#1. liblinear\n",
        "\n",
        "Type: Coordinate descent\n",
        "\n",
        "Best for: Small datasets\n",
        "\n",
        "Supports: L1 and L2 regularization\n",
        "\n",
        "Does NOT support: Multinomial (multi-class) loss (only “one-vs-rest”)\n",
        "\n",
        "#2. newton-cg\n",
        "\n",
        "Type: Newton-Raphson method (second-order)\n",
        "\n",
        "Best for: Large datasets, multinomial classification\n",
        "\n",
        "Supports: Only L2 regularization\n",
        "\n",
        "#3. lbfgs\n",
        "\n",
        "Type: Quasi-Newton (limited memory)\n",
        "\n",
        "Best for: Large datasets\n",
        "\n",
        "Supports: L2 regularization, multinomial classification\n",
        "\n",
        "Fast and memory efficient\n",
        "\n",
        "#4. sag (Stochastic Average Gradient)\n",
        "\n",
        "Type: Online optimization\n",
        "\n",
        "Best for: Large datasets with many samples\n",
        "\n",
        "Supports: L2 regularization\n",
        "\n",
        "Requires: Data to be scaled\n",
        "\n",
        "#5. saga\n",
        "\n",
        "Type: Variant of SAG, handles L1\n",
        "\n",
        "Best for: Very large datasets\n",
        "\n",
        "Supports: L1, L2, and Elastic Net\n",
        "\n",
        "Works with: Sparse data, suitable for L1 regularization\n",
        "\n",
        "\n",
        "# should  use\n",
        "🧠 Use lbfgs if you're just getting started. It works well in most cases — fast, supports multiclass, and handles large data nicely.\n",
        "\n",
        "🧮 Use liblinear if your dataset is small and you're okay with binary classification. It also works when you want L1 regularization (like feature selection).\n",
        "\n",
        "📦 Use saga if your dataset is really big, or if you want to use L1 or Elastic Net regularization. It’s flexible and works well with sparse data.\n",
        "\n",
        "⚡ Use sag if your data has lots of rows and you want a faster solution — but you need to scale your features first.\n",
        "\n",
        "🔁 Use newton-cg if you need to handle multiclass problems and prefer a second-order solver.\n",
        "\n",
        "\n",
        "\n",
        "\n",
        "\n",
        "\n",
        "\n",
        "\n"
      ],
      "metadata": {
        "id": "X9uBvCulbyT0"
      }
    },
    {
      "cell_type": "markdown",
      "source": [
        "#15.  How is Logistic Regression extended for multiclass classification ?\n",
        "\n",
        "#1. One-vs-Rest (OvR) / One-vs-All (OvA)\n",
        "For K classes, train K binary classifiers.\n",
        "\n",
        "Each classifier predicts if the sample belongs to its class vs. all others.\n",
        "\n",
        "At prediction time, the class with the highest probability is selected.\n",
        "\n",
        "✅ Simple and works well when classes are imbalanced.\n",
        "\n",
        "🚫 May suffer from overlapping decision boundaries.\n",
        "\n",
        "#2. Multinomial Logistic Regression (Softmax Regression)\n",
        "Directly handles multiple classes in one model.\n",
        "\n",
        "Uses the softmax function instead of sigmoid to output probabilities for each class.\n",
        "\n",
        "Cost function is cross-entropy loss over all classes.\n",
        "\n",
        "✅ More accurate for balanced and non-overlapping class distributions.\n",
        "\n",
        "🚫 Computationally heavier than OvR.\n",
        "\n",
        "#3. One-vs-One (OvO) (less common with Logistic Regression)\n",
        "For K classes, train K(K−1)/2 classifiers, each for a pair of classes.\n",
        "\n",
        "Final prediction is made by voting.\n",
        "\n",
        "✅ Sometimes better for small datasets.\n",
        "\n",
        "🚫 Becomes inefficient with many classes."
      ],
      "metadata": {
        "id": "_8rhYpEsbyoD"
      }
    },
    {
      "cell_type": "markdown",
      "source": [
        "#16.  What are the advantages and disadvantages of Logistic Regression ?\n",
        "\n",
        "# ✅ Advantages:\n",
        "#1. Simple & Easy to Implement:\n",
        "Easy to understand, interpret, and implement for binary classification problems.\n",
        "\n",
        "# 2. Efficient:\n",
        "Works well when the relationship between features and the output is approximately linear.\n",
        "\n",
        "#3.Probabilistic Output:\n",
        "Provides probabilities for classification, not just class labels.\n",
        "\n",
        "#4. Less Prone to Overfitting (with regularization):\n",
        "Especially with L1 or L2 regularization, logistic regression can avoid overfitting.\n",
        "\n",
        "#5.Works Well with Linearly Separable Data:\n",
        "Effective when the classes can be separated by a linear boundary.\n",
        "\n",
        "#6.Good Baseline Model:\n",
        "Often used as a benchmark due to its simplicity and performance.\n",
        "\n",
        "#❌ Disadvantages:\n",
        "\n",
        "#1.Assumes Linear Decision Boundary:\n",
        "Performs poorly when the actual decision boundary is non-linear.\n",
        "\n",
        "#2.Sensitive to Outliers:\n",
        "Can be heavily influenced by extreme values in the data.\n",
        "\n",
        "#3.Requires Feature Engineering:\n",
        "Features need to be selected and preprocessed carefully for best performance.\n",
        "\n",
        "#4.Not Suitable for Complex Relationships:\n",
        "Can't capture complex patterns like tree-based or neural network models.\n",
        "\n",
        "#5.Can Underperform on Imbalanced Data:\n",
        "Biased towards the majority class without special handling (e.g., resampling, class weights)."
      ],
      "metadata": {
        "id": "ZasQnmLfby1y"
      }
    },
    {
      "cell_type": "markdown",
      "source": [
        "#17.  What are some use cases of Logistic Regression ?\n",
        "\n",
        "# 1. Medical Diagnosis\n",
        "Example: Predict whether a patient has a disease (e.g., diabetes, cancer) based on clinical data.\n",
        "\n",
        "Output: Probability of having the disease (Yes/No).\n",
        "\n",
        "# 2. Credit Scoring / Risk Assessment\n",
        "Example: Determine whether a loan applicant is likely to default.\n",
        "\n",
        "Output: Creditworthy (Yes/No).\n",
        "\n",
        "# 3. Marketing Campaigns\n",
        "Example: Predict if a customer will respond to a marketing email or ad.\n",
        "\n",
        "Output: Will Respond (Yes/No).\n",
        "\n",
        "# 4. Customer Churn Prediction\n",
        "Example: Estimate the likelihood of a customer leaving a service (e.g., telecom).\n",
        "\n",
        "Output: Will Churn (Yes/No).\n",
        "\n",
        "# 5. Spam Email Detection\n",
        "Example: Classify emails as spam or not spam using text features.\n",
        "\n",
        "Output: Spam (Yes/No)."
      ],
      "metadata": {
        "id": "5nUSX_1rMMfw"
      }
    },
    {
      "cell_type": "markdown",
      "source": [
        "#18.  What is the difference between Softmax Regression and Logistic Regression ?\n",
        "\n",
        "# Logistic Regression\n",
        "Used for: Binary classification (i.e., 2 classes)\n",
        "\n",
        "Output: Probability of belonging to class 1 (since class 0 is 1 - probability)\n",
        "\n",
        "Example use case: Spam vs Not Spam, Yes vs No, etc.\n",
        "\n",
        "#🔹 Softmax Regression (also called Multinomial Logistic Regression)\n",
        "Used for: Multiclass classification (i.e., more than 2 classes)\n",
        "\n",
        "Output: Probabilities for each class, summing to 1\n",
        "\n",
        "Example use case: Classifying animals as cat, dog, or rabbit\n",
        "\n"
      ],
      "metadata": {
        "id": "U8U_ZP6zMMjI"
      }
    },
    {
      "cell_type": "markdown",
      "source": [
        "#19. How do we choose between One-vs-Rest (OvR) and Softmax for multiclass classification ?\n",
        "\n",
        "# One-vs-Rest (OvR)\n",
        "✅ Use When:\n",
        "You want a simpler, interpretable model.\n",
        "\n",
        "You're using algorithms that are inherently binary, like Logistic Regression, SVMs.\n",
        "\n",
        "Classes are not mutually exclusive (in some cases).\n",
        "\n",
        "You have imbalanced data, and you want to give attention to each class independently.\n",
        "\n",
        "⚠️ Limitations:\n",
        "Can result in conflicting predictions (more than one classifier gives a high score).\n",
        "\n",
        "May not capture relative probability across classes well.\n",
        "\n",
        "# Softmax (Multinomial Logistic Regression)\n",
        "✅ Use When:\n",
        "Classes are mutually exclusive.\n",
        "\n",
        "You want probability distributions over all classes (e.g., for ranking).\n",
        "\n",
        "You need a single, unified model rather than multiple binary classifiers.\n",
        "\n",
        "You have enough data and computing power to train a more complex model.\n",
        "\n",
        "⚠️ Limitations:\n",
        "Harder to train if you have many classes.\n",
        "\n",
        "Less interpretable compared to OvR.\n",
        "\n"
      ],
      "metadata": {
        "id": "rzwcP6MEMMm5"
      }
    },
    {
      "cell_type": "markdown",
      "source": [
        "#20. How do we interpret coefficients in Logistic Regression?\n",
        "\n",
        "#. Coefficient (β) Interpretation\n",
        "Each coefficient (βᵢ) tells us how a one-unit change in the predictor variable xᵢ affects the log-odds of the outcome, keeping other variables constant.\n",
        "\n",
        "If β > 0: The log-odds (and probability) of the event increase as xᵢ increases.\n",
        "\n",
        "If β < 0: The log-odds (and probability) of the event decrease as xᵢ increases.\n",
        "\n",
        "If β = 0: No effect on the log-odds.\n",
        "\n",
        "# 2. Exponentiated Coefficient (odds ratio)\n",
        "To make interpretation easier, we often use the odds ratio:\n",
        "\n",
        "Odds Ratio\n",
        "=\n",
        "𝑒\n",
        "𝛽\n",
        "𝑖\n",
        "Odds Ratio=e\n",
        "β\n",
        "i\n",
        "​\n",
        "\n",
        "\n",
        "If e^β > 1: A one-unit increase in xᵢ increases the odds of the event.\n",
        "\n",
        "If e^β < 1: A one-unit increase in xᵢ decreases the odds of the event.\n",
        "\n",
        "If e^β = 1: No change in odds.\n",
        "\n",
        "#3. Example\n",
        "Suppose we have a logistic regression model predicting whether a customer will buy a product (Buy = 1 or 0) using Income.\n",
        "\n",
        "If:\n",
        "\n",
        "𝛽\n",
        "Income\n",
        "=\n",
        "0.4\n",
        "⇒\n",
        "Odds Ratio\n",
        "=\n",
        "𝑒\n",
        "0.4\n",
        "≈\n",
        "1.49\n",
        "\n",
        "\n",
        "➡ This means: For every one-unit increase in income, the odds of buying the product increase by 49% (holding other variables constant).\n",
        ""
      ],
      "metadata": {
        "id": "nH0v0DvEMMqw"
      }
    },
    {
      "cell_type": "markdown",
      "source": [
        "# Practical"
      ],
      "metadata": {
        "id": "3arXDzCcRAAW"
      }
    },
    {
      "cell_type": "code",
      "source": [
        "#Q.1  Write a Python program that loads a dataset, splits it into training and testing sets, applies Logistic\n",
        "# Regression, and prints the model accuracy\n",
        "\n",
        "# Import necessary libraries\n",
        "from sklearn.datasets import load_iris\n",
        "from sklearn.linear_model import LogisticRegression\n",
        "from sklearn.model_selection import train_test_split\n",
        "from sklearn.metrics import accuracy_score\n",
        "\n",
        "# Load the Iris dataset\n",
        "iris = load_iris()\n",
        "X = iris.data          # Features\n",
        "y = iris.target        # Target labels\n",
        "\n",
        "# Split the dataset into training (80%) and testing (20%) sets\n",
        "X_train, X_test, y_train, y_test = train_test_split(X, y, test_size=0.2, random_state=42)\n",
        "\n",
        "# Create a Logistic Regression model\n",
        "model = LogisticRegression(max_iter=200)  # Increase max_iter to ensure convergence\n",
        "\n",
        "# Fit the model to the training data\n",
        "model.fit(X_train, y_train)\n",
        "\n",
        "# Make predictions on the test set\n",
        "y_pred = model.predict(X_test)\n",
        "\n",
        "# Calculate and print the accuracy\n",
        "accuracy = accuracy_score(y_test, y_pred)\n",
        "print(\"Logistic Regression Model Accuracy: {:.2f}%\".format(accuracy * 100))\n"
      ],
      "metadata": {
        "colab": {
          "base_uri": "https://localhost:8080/"
        },
        "id": "HIpWq-ESRQU0",
        "outputId": "1f5e3bb2-82e9-4316-d511-c6e7c81ee593"
      },
      "execution_count": 1,
      "outputs": [
        {
          "output_type": "stream",
          "name": "stdout",
          "text": [
            "Logistic Regression Model Accuracy: 100.00%\n"
          ]
        }
      ]
    },
    {
      "cell_type": "code",
      "source": [
        "#Q.2 Write a Python program to apply L1 regularization (Lasso) on a dataset using LogisticRegression(penalty='l1')\n",
        "# and print the model accuracy.\n",
        "\n",
        "from sklearn.datasets import load_breast_cancer\n",
        "from sklearn.linear_model import LogisticRegression\n",
        "from sklearn.model_selection import train_test_split\n",
        "from sklearn.preprocessing import StandardScaler\n",
        "from sklearn.metrics import accuracy_score\n",
        "\n",
        "# Load dataset\n",
        "data = load_breast_cancer()\n",
        "X = data.data\n",
        "y = data.target\n",
        "\n",
        "# Split into training and test sets\n",
        "X_train, X_test, y_train, y_test = train_test_split(X, y, test_size=0.2, random_state=42)\n",
        "\n",
        "# Standardize features (important for regularization)\n",
        "scaler = StandardScaler()\n",
        "X_train_scaled = scaler.fit_transform(X_train)\n",
        "X_test_scaled = scaler.transform(X_test)\n",
        "\n",
        "# Apply Logistic Regression with L1 regularization (Lasso)\n",
        "model = LogisticRegression(penalty='l1', solver='liblinear', C=1.0, random_state=42)\n",
        "model.fit(X_train_scaled, y_train)\n",
        "\n",
        "# Predict and evaluate\n",
        "y_pred = model.predict(X_test_scaled)\n",
        "accuracy = accuracy_score(y_test, y_pred)\n",
        "\n",
        "print(\"Model Accuracy with L1 Regularization (Lasso): {:.2f}%\".format(accuracy * 100))\n"
      ],
      "metadata": {
        "colab": {
          "base_uri": "https://localhost:8080/"
        },
        "id": "Y7x2ohBNRQZU",
        "outputId": "0d1ff70f-3963-46d0-cde7-dbfd468c59a9"
      },
      "execution_count": 2,
      "outputs": [
        {
          "output_type": "stream",
          "name": "stdout",
          "text": [
            "Model Accuracy with L1 Regularization (Lasso): 97.37%\n"
          ]
        }
      ]
    },
    {
      "cell_type": "code",
      "source": [
        "#Q.3 Write a Python program to train Logistic Regression with L2 regularization (Ridge) using\n",
        "# LogisticRegression(penalty='l2'). Print model accuracy and coefficients.\n",
        "\n",
        "from sklearn.datasets import load_breast_cancer\n",
        "from sklearn.linear_model import LogisticRegression\n",
        "from sklearn.model_selection import train_test_split\n",
        "from sklearn.preprocessing import StandardScaler\n",
        "from sklearn.metrics import accuracy_score\n",
        "\n",
        "# Load dataset\n",
        "data = load_breast_cancer()\n",
        "X = data.data\n",
        "y = data.target\n",
        "feature_names = data.feature_names\n",
        "\n",
        "# Split the dataset\n",
        "X_train, X_test, y_train, y_test = train_test_split(X, y, test_size=0.2, random_state=42)\n",
        "\n",
        "# Scale features\n",
        "scaler = StandardScaler()\n",
        "X_train_scaled = scaler.fit_transform(X_train)\n",
        "X_test_scaled = scaler.transform(X_test)\n",
        "\n",
        "# Train Logistic Regression with L2 regularization (Ridge)\n",
        "model = LogisticRegression(penalty='l2', solver='liblinear', C=1.0, random_state=42)\n",
        "model.fit(X_train_scaled, y_train)\n",
        "\n",
        "# Predict and evaluate\n",
        "y_pred = model.predict(X_test_scaled)\n",
        "accuracy = accuracy_score(y_test, y_pred)\n",
        "\n",
        "# Print results\n",
        "print(\"Model Accuracy with L2 Regularization (Ridge): {:.2f}%\".format(accuracy * 100))\n",
        "print(\"\\nModel Coefficients:\")\n",
        "for feature, coef in zip(feature_names, model.coef_[0]):\n",
        "    print(f\"{feature}: {coef:.4f}\")\n",
        "\n",
        "\n"
      ],
      "metadata": {
        "colab": {
          "base_uri": "https://localhost:8080/"
        },
        "id": "VqpuWgheRQdN",
        "outputId": "d6fd31d3-50ff-4260-827a-c9298fe9b3fa"
      },
      "execution_count": 3,
      "outputs": [
        {
          "output_type": "stream",
          "name": "stdout",
          "text": [
            "Model Accuracy with L2 Regularization (Ridge): 97.37%\n",
            "\n",
            "Model Coefficients:\n",
            "mean radius: -0.4087\n",
            "mean texture: -0.3881\n",
            "mean perimeter: -0.3722\n",
            "mean area: -0.4759\n",
            "mean smoothness: -0.0562\n",
            "mean compactness: 0.5529\n",
            "mean concavity: -0.8183\n",
            "mean concave points: -1.1305\n",
            "mean symmetry: 0.2313\n",
            "mean fractal dimension: 0.0518\n",
            "radius error: -1.2831\n",
            "texture error: 0.1920\n",
            "perimeter error: -0.6192\n",
            "area error: -0.9449\n",
            "smoothness error: -0.3213\n",
            "compactness error: 0.7005\n",
            "concavity error: 0.1880\n",
            "concave points error: -0.2852\n",
            "symmetry error: 0.4817\n",
            "fractal dimension error: 0.5925\n",
            "worst radius: -0.8810\n",
            "worst texture: -1.3357\n",
            "worst perimeter: -0.5919\n",
            "worst area: -0.8829\n",
            "worst smoothness: -0.5505\n",
            "worst compactness: 0.0134\n",
            "worst concavity: -0.9422\n",
            "worst concave points: -0.7669\n",
            "worst symmetry: -1.1961\n",
            "worst fractal dimension: -0.1626\n"
          ]
        }
      ]
    },
    {
      "cell_type": "code",
      "source": [
        "#Q.4  Write a Python program to train Logistic Regression with Elastic Net Regularization (penalty='elasticnet').\n",
        "\n",
        "from sklearn.datasets import load_breast_cancer\n",
        "from sklearn.linear_model import LogisticRegression\n",
        "from sklearn.model_selection import train_test_split\n",
        "from sklearn.preprocessing import StandardScaler\n",
        "from sklearn.metrics import accuracy_score\n",
        "\n",
        "# Load dataset\n",
        "data = load_breast_cancer()\n",
        "X = data.data\n",
        "y = data.target\n",
        "feature_names = data.feature_names\n",
        "\n",
        "# Split the data\n",
        "X_train, X_test, y_train, y_test = train_test_split(X, y, test_size=0.2, random_state=42)\n",
        "\n",
        "# Standardize the features\n",
        "scaler = StandardScaler()\n",
        "X_train_scaled = scaler.fit_transform(X_train)\n",
        "X_test_scaled = scaler.transform(X_test)\n",
        "\n",
        "# Train Logistic Regression with Elastic Net Regularization\n",
        "model = LogisticRegression(\n",
        "    penalty='elasticnet',\n",
        "    solver='saga',           # Required for elasticnet\n",
        "    l1_ratio=0.5,            # Mix between L1 (lasso) and L2 (ridge)\n",
        "    C=1.0,\n",
        "    max_iter=10000,\n",
        "    random_state=42\n",
        ")\n",
        "\n",
        "model.fit(X_train_scaled, y_train)\n",
        "\n",
        "# Predict and evaluate\n",
        "y_pred = model.predict(X_test_scaled)\n",
        "accuracy = accuracy_score(y_test, y_pred)\n",
        "\n",
        "# Output\n",
        "print(\"Model Accuracy with Elastic Net Regularization: {:.2f}%\".format(accuracy * 100))\n",
        "print(\"\\nModel Coefficients:\")\n",
        "for feature, coef in zip(feature_names, model.coef_[0]):\n",
        "    print(f\"{feature}: {coef:.4f}\")\n"
      ],
      "metadata": {
        "colab": {
          "base_uri": "https://localhost:8080/"
        },
        "id": "PKqMNr4dRQhN",
        "outputId": "b035b7d3-3522-4466-b213-45546e716ec8"
      },
      "execution_count": 4,
      "outputs": [
        {
          "output_type": "stream",
          "name": "stdout",
          "text": [
            "Model Accuracy with Elastic Net Regularization: 97.37%\n",
            "\n",
            "Model Coefficients:\n",
            "mean radius: -0.3369\n",
            "mean texture: -0.2702\n",
            "mean perimeter: -0.2558\n",
            "mean area: -0.3555\n",
            "mean smoothness: 0.0000\n",
            "mean compactness: 0.3202\n",
            "mean concavity: -0.6030\n",
            "mean concave points: -1.3277\n",
            "mean symmetry: 0.1666\n",
            "mean fractal dimension: 0.0000\n",
            "radius error: -1.5213\n",
            "texture error: 0.1960\n",
            "perimeter error: -0.3933\n",
            "area error: -0.8801\n",
            "smoothness error: -0.3390\n",
            "compactness error: 0.7158\n",
            "concavity error: 0.0000\n",
            "concave points error: -0.0505\n",
            "symmetry error: 0.5031\n",
            "fractal dimension error: 0.4687\n",
            "worst radius: -1.0304\n",
            "worst texture: -1.4527\n",
            "worst perimeter: -0.5468\n",
            "worst area: -0.9183\n",
            "worst smoothness: -0.4545\n",
            "worst compactness: 0.0000\n",
            "worst concavity: -0.8659\n",
            "worst concave points: -0.8005\n",
            "worst symmetry: -1.1506\n",
            "worst fractal dimension: 0.0000\n"
          ]
        }
      ]
    },
    {
      "cell_type": "code",
      "source": [
        "#Q.5  Write a Python program to train a Logistic Regression model for multiclass classification using\n",
        "# multi_class='ovr'.\n",
        "\n",
        "from sklearn.datasets import load_iris\n",
        "from sklearn.linear_model import LogisticRegression\n",
        "from sklearn.model_selection import train_test_split\n",
        "from sklearn.preprocessing import StandardScaler\n",
        "from sklearn.metrics import accuracy_score, classification_report\n",
        "\n",
        "# Load the Iris dataset (3-class classification)\n",
        "data = load_iris()\n",
        "X = data.data\n",
        "y = data.target\n",
        "target_names = data.target_names\n",
        "\n",
        "# Split into train and test sets\n",
        "X_train, X_test, y_train, y_test = train_test_split(X, y, test_size=0.2, random_state=42)\n",
        "\n",
        "# Feature scaling\n",
        "scaler = StandardScaler()\n",
        "X_train_scaled = scaler.fit_transform(X_train)\n",
        "X_test_scaled = scaler.transform(X_test)\n",
        "\n",
        "# Train Logistic Regression with OvR (One-vs-Rest)\n",
        "model = LogisticRegression(multi_class='ovr', solver='liblinear', random_state=42)\n",
        "model.fit(X_train_scaled, y_train)\n",
        "\n",
        "# Predict and evaluate\n",
        "y_pred = model.predict(X_test_scaled)\n",
        "accuracy = accuracy_score(y_test, y_pred)\n",
        "\n",
        "# Output\n",
        "print(\"Multiclass Logistic Regression Accuracy (OvR): {:.2f}%\".format(accuracy * 100))\n",
        "print(\"\\nClassification Report:\\n\")\n",
        "print(classification_report(y_test, y_pred, target_names=target_names))\n"
      ],
      "metadata": {
        "colab": {
          "base_uri": "https://localhost:8080/"
        },
        "id": "ZyJh_W-_RQks",
        "outputId": "fbaac0c9-19b4-4e03-f6b8-30d6e335533a"
      },
      "execution_count": 5,
      "outputs": [
        {
          "output_type": "stream",
          "name": "stdout",
          "text": [
            "Multiclass Logistic Regression Accuracy (OvR): 96.67%\n",
            "\n",
            "Classification Report:\n",
            "\n",
            "              precision    recall  f1-score   support\n",
            "\n",
            "      setosa       1.00      1.00      1.00        10\n",
            "  versicolor       1.00      0.89      0.94         9\n",
            "   virginica       0.92      1.00      0.96        11\n",
            "\n",
            "    accuracy                           0.97        30\n",
            "   macro avg       0.97      0.96      0.97        30\n",
            "weighted avg       0.97      0.97      0.97        30\n",
            "\n"
          ]
        },
        {
          "output_type": "stream",
          "name": "stderr",
          "text": [
            "/usr/local/lib/python3.11/dist-packages/sklearn/linear_model/_logistic.py:1256: FutureWarning: 'multi_class' was deprecated in version 1.5 and will be removed in 1.7. Use OneVsRestClassifier(LogisticRegression(..)) instead. Leave it to its default value to avoid this warning.\n",
            "  warnings.warn(\n"
          ]
        }
      ]
    },
    {
      "cell_type": "code",
      "source": [
        "#Q.6  Write a Python program to apply GridSearchCV to tune the hyperparameters (C and penalty) of Logistic\n",
        "#Regression. Print the best parameters and accuracy\n",
        "\n",
        "from sklearn.datasets import load_breast_cancer\n",
        "from sklearn.linear_model import LogisticRegression\n",
        "from sklearn.model_selection import GridSearchCV, train_test_split\n",
        "from sklearn.preprocessing import StandardScaler\n",
        "from sklearn.metrics import accuracy_score\n",
        "\n",
        "# Load dataset\n",
        "data = load_breast_cancer()\n",
        "X = data.data\n",
        "y = data.target\n",
        "\n",
        "# Split dataset\n",
        "X_train, X_test, y_train, y_test = train_test_split(X, y, test_size=0.2, random_state=42)\n",
        "\n",
        "# Standardize features\n",
        "scaler = StandardScaler()\n",
        "X_train_scaled = scaler.fit_transform(X_train)\n",
        "X_test_scaled = scaler.transform(X_test)\n",
        "\n",
        "# Define Logistic Regression model\n",
        "model = LogisticRegression(solver='liblinear', max_iter=1000)\n",
        "\n",
        "# Define parameter grid\n",
        "param_grid = {\n",
        "    'C': [0.01, 0.1, 1, 10],\n",
        "    'penalty': ['l1', 'l2']\n",
        "}\n",
        "\n",
        "# Use GridSearchCV\n",
        "grid = GridSearchCV(model, param_grid, cv=5, scoring='accuracy')\n",
        "grid.fit(X_train_scaled, y_train)\n",
        "\n",
        "# Predict and evaluate\n",
        "best_model = grid.best_estimator_\n",
        "y_pred = best_model.predict(X_test_scaled)\n",
        "accuracy = accuracy_score(y_test, y_pred)\n",
        "\n",
        "# Output best parameters and accuracy\n",
        "print(\"Best Parameters:\", grid.best_params_)\n",
        "print(\"Best Cross-Validated Score: {:.2f}%\".format(grid.best_score_ * 100))\n",
        "print(\"Test Set Accuracy: {:.2f}%\".format(accuracy * 100))\n"
      ],
      "metadata": {
        "colab": {
          "base_uri": "https://localhost:8080/"
        },
        "id": "gk-mF59ERQol",
        "outputId": "54c2d8ee-453a-4f3e-cc4b-9eed3d97e5aa"
      },
      "execution_count": 6,
      "outputs": [
        {
          "output_type": "stream",
          "name": "stdout",
          "text": [
            "Best Parameters: {'C': 0.1, 'penalty': 'l2'}\n",
            "Best Cross-Validated Score: 97.80%\n",
            "Test Set Accuracy: 99.12%\n"
          ]
        }
      ]
    },
    {
      "cell_type": "code",
      "source": [
        "# Q.7  Write a Python program to evaluate Logistic Regression using Stratified K-Fold Cross-Validation. Print the\n",
        "# average accuracy.\n",
        "\n",
        "from sklearn.datasets import load_breast_cancer\n",
        "from sklearn.linear_model import LogisticRegression\n",
        "from sklearn.model_selection import StratifiedKFold, cross_val_score\n",
        "from sklearn.preprocessing import StandardScaler\n",
        "from sklearn.pipeline import make_pipeline\n",
        "import numpy as np\n",
        "\n",
        "# Load dataset\n",
        "data = load_breast_cancer()\n",
        "X = data.data\n",
        "y = data.target\n",
        "\n",
        "# Define pipeline with StandardScaler and LogisticRegression\n",
        "pipeline = make_pipeline(\n",
        "    StandardScaler(),\n",
        "    LogisticRegression(solver='liblinear', penalty='l2', C=1.0)\n",
        ")\n",
        "\n",
        "# Set up Stratified K-Fold\n",
        "skf = StratifiedKFold(n_splits=5, shuffle=True, random_state=42)\n",
        "\n",
        "# Perform cross-validation\n",
        "scores = cross_val_score(pipeline, X, y, cv=skf, scoring='accuracy')\n",
        "\n",
        "# Output results\n",
        "print(\"Accuracy for each fold:\", scores)\n",
        "print(\"Average Accuracy: {:.2f}%\".format(np.mean(scores) * 100))\n"
      ],
      "metadata": {
        "colab": {
          "base_uri": "https://localhost:8080/"
        },
        "id": "BVhm3keORQsN",
        "outputId": "5d0a66c6-17fe-45ef-f85e-802b136b0957"
      },
      "execution_count": 8,
      "outputs": [
        {
          "output_type": "stream",
          "name": "stdout",
          "text": [
            "Accuracy for each fold: [0.97368421 0.95614035 0.96491228 0.99122807 0.99115044]\n",
            "Average Accuracy: 97.54%\n"
          ]
        }
      ]
    },
    {
      "cell_type": "code",
      "source": [
        "#Q.8  Write a Python program to load a dataset from a CSV file, apply Logistic Regression, and evaluate its\n",
        "# accuracy.\n",
        "\n",
        "import pandas as pd\n",
        "from sklearn.model_selection import train_test_split\n",
        "from sklearn.preprocessing import LabelEncoder, StandardScaler\n",
        "from sklearn.impute import SimpleImputer\n",
        "from sklearn.linear_model import LogisticRegression\n",
        "from sklearn.metrics import accuracy_score\n",
        "\n",
        "# Step 1: Load the dataset\n",
        "df = pd.read_csv('HRDataset_v14.csv')  # Ensure the file is in the same directory\n",
        "\n",
        "# Step 2: Drop unnecessary columns\n",
        "df = df.drop(columns=['Employee_Name', 'EmpID', 'DateofHire', 'DateofTermination', 'DOB'], errors='ignore')\n",
        "\n",
        "# Step 3: Encode categorical columns\n",
        "label_encoders = {}\n",
        "for col in df.select_dtypes(include='object').columns:\n",
        "    le = LabelEncoder()\n",
        "    df[col] = le.fit_transform(df[col].astype(str))\n",
        "    label_encoders[col] = le\n",
        "\n",
        "# Step 4: Set target variable (e.g., 'Position' for multiclass classification)\n",
        "target_column = 'Position'\n",
        "df = df.dropna(subset=[target_column])  # Drop rows with missing target\n",
        "\n",
        "X = df.drop(columns=[target_column])\n",
        "y = df[target_column]\n",
        "\n",
        "# Step 5: Handle missing values\n",
        "imputer = SimpleImputer(strategy='mean')\n",
        "X_imputed = imputer.fit_transform(X)\n",
        "\n",
        "# Step 6: Train-test split\n",
        "X_train, X_test, y_train, y_test = train_test_split(X_imputed, y, test_size=0.2, random_state=42)\n",
        "\n",
        "# Step 7: Feature scaling\n",
        "scaler = StandardScaler()\n",
        "X_train_scaled = scaler.fit_transform(X_train)\n",
        "X_test_scaled = scaler.transform(X_test)\n",
        "\n",
        "# Step 8: Train Logistic Regression model\n",
        "model = LogisticRegression(max_iter=1000, multi_class='ovr')  # use ovr for multiclass\n",
        "model.fit(X_train_scaled, y_train)\n",
        "\n",
        "# Step 9: Predict and evaluate\n",
        "y_pred = model.predict(X_test_scaled)\n",
        "accuracy = accuracy_score(y_test, y_pred)\n",
        "\n",
        "# Step 10: Print accuracy\n",
        "print(\"Logistic Regression Accuracy on HRDataset_v14.csv: {:.2f}%\".format(accuracy * 100))\n"
      ],
      "metadata": {
        "colab": {
          "base_uri": "https://localhost:8080/"
        },
        "id": "n-Xks2XIRQv8",
        "outputId": "91c9789c-8087-4446-b565-128aa4ba2b09"
      },
      "execution_count": 28,
      "outputs": [
        {
          "output_type": "stream",
          "name": "stderr",
          "text": [
            "/usr/local/lib/python3.11/dist-packages/sklearn/linear_model/_logistic.py:1256: FutureWarning: 'multi_class' was deprecated in version 1.5 and will be removed in 1.7. Use OneVsRestClassifier(LogisticRegression(..)) instead. Leave it to its default value to avoid this warning.\n",
            "  warnings.warn(\n"
          ]
        },
        {
          "output_type": "stream",
          "name": "stdout",
          "text": [
            "Logistic Regression Accuracy on HRDataset_v14.csv: 65.08%\n"
          ]
        }
      ]
    },
    {
      "cell_type": "code",
      "source": [
        "#Q.9 Write a Python program to apply RandomizedSearchCV for tuning hyperparameters (C, penalty, solver) in\n",
        "# Logistic Regression. Print the best parameters and accuracy.\n"
      ],
      "metadata": {
        "id": "2g7VBM7nRQzu"
      },
      "execution_count": 33,
      "outputs": []
    },
    {
      "cell_type": "code",
      "source": [
        "#Q.10  Write a Python program to implement One-vs-One (OvO) Multiclass Logistic Regression and print accuracy.\n",
        "\n",
        "from sklearn.datasets import load_iris\n",
        "from sklearn.linear_model import LogisticRegression\n",
        "from sklearn.model_selection import train_test_split\n",
        "from sklearn.multiclass import OneVsOneClassifier\n",
        "from sklearn.preprocessing import StandardScaler\n",
        "from sklearn.metrics import accuracy_score\n",
        "\n",
        "# Step 1: Load a multiclass dataset\n",
        "data = load_iris()\n",
        "X = data.data\n",
        "y = data.target\n",
        "\n",
        "# Step 2: Train-test split\n",
        "X_train, X_test, y_train, y_test = train_test_split(X, y, test_size=0.2, random_state=42)\n",
        "\n",
        "# Step 3: Feature scaling\n",
        "scaler = StandardScaler()\n",
        "X_train = scaler.fit_transform(X_train)\n",
        "X_test = scaler.transform(X_test)\n",
        "\n",
        "# Step 4: Build Logistic Regression with OvO\n",
        "base_model = LogisticRegression(max_iter=1000)\n",
        "ovo_model = OneVsOneClassifier(base_model)\n",
        "ovo_model.fit(X_train, y_train)\n",
        "\n",
        "# Step 5: Predict and evaluate\n",
        "y_pred = ovo_model.predict(X_test)\n",
        "accuracy = accuracy_score(y_test, y_pred)\n",
        "\n",
        "# Step 6: Output accuracy\n",
        "print(\"One-vs-One (OvO) Multiclass Logistic Regression Accuracy: {:.2f}%\".format(accuracy * 100))\n"
      ],
      "metadata": {
        "colab": {
          "base_uri": "https://localhost:8080/"
        },
        "id": "kJoIwd55RQ3X",
        "outputId": "e919ef23-1f6e-4eac-a385-8f7fc902b775"
      },
      "execution_count": 35,
      "outputs": [
        {
          "output_type": "stream",
          "name": "stdout",
          "text": [
            "One-vs-One (OvO) Multiclass Logistic Regression Accuracy: 100.00%\n"
          ]
        }
      ]
    },
    {
      "cell_type": "code",
      "source": [
        "#Q.11  Write a Python program to train a Logistic Regression model and visualize the confusion matrix for binary\n",
        "# classification.\n",
        "\n",
        "import pandas as pd\n",
        "import seaborn as sns\n",
        "import matplotlib.pyplot as plt\n",
        "from sklearn.datasets import load_breast_cancer\n",
        "from sklearn.model_selection import train_test_split\n",
        "from sklearn.preprocessing import StandardScaler\n",
        "from sklearn.linear_model import LogisticRegression\n",
        "from sklearn.metrics import confusion_matrix, ConfusionMatrixDisplay, accuracy_score\n",
        "\n",
        "# Step 1: Load a binary classification dataset\n",
        "data = load_breast_cancer()\n",
        "X = data.data\n",
        "y = data.target\n",
        "target_names = data.target_names\n",
        "\n",
        "# Step 2: Split dataset\n",
        "X_train, X_test, y_train, y_test = train_test_split(X, y, test_size=0.2, random_state=42)\n",
        "\n",
        "# Step 3: Scale features\n",
        "scaler = StandardScaler()\n",
        "X_train_scaled = scaler.fit_transform(X_train)\n",
        "X_test_scaled = scaler.transform(X_test)\n",
        "\n",
        "# Step 4: Train logistic regression model\n",
        "model = LogisticRegression(max_iter=1000)\n",
        "model.fit(X_train_scaled, y_train)\n",
        "\n",
        "# Step 5: Predict\n",
        "y_pred = model.predict(X_test_scaled)\n",
        "\n",
        "# Step 6: Accuracy\n",
        "accuracy = accuracy_score(y_test, y_pred)\n",
        "print(\"Logistic Regression Accuracy: {:.2f}%\".format(accuracy * 100))\n",
        "\n",
        "# Step 7: Confusion Matrix\n",
        "cm = confusion_matrix(y_test, y_pred)\n",
        "disp = ConfusionMatrixDisplay(confusion_matrix=cm, display_labels=target_names)\n",
        "disp.plot(cmap='Blues')\n",
        "plt.title('Confusion Matrix')\n",
        "plt.show()\n",
        "\n",
        "\n"
      ],
      "metadata": {
        "colab": {
          "base_uri": "https://localhost:8080/",
          "height": 489
        },
        "id": "2oJetUnQRQ6t",
        "outputId": "dcc9e357-cb8d-427b-b30d-42641bfae76f"
      },
      "execution_count": 36,
      "outputs": [
        {
          "output_type": "stream",
          "name": "stdout",
          "text": [
            "Logistic Regression Accuracy: 97.37%\n"
          ]
        },
        {
          "output_type": "display_data",
          "data": {
            "text/plain": [
              "<Figure size 640x480 with 2 Axes>"
            ],
            "image/png": "[encoded data removed]"
          },
          "metadata": {}
        }
      ]
    },
    {
      "cell_type": "code",
      "source": [
        "#Q.12  Write a Python program to train a Logistic Regression model and evaluate its performance using Precision,\n",
        "# Recall, and F1-Score.\n",
        "\n",
        "from sklearn.datasets import load_breast_cancer\n",
        "from sklearn.model_selection import train_test_split\n",
        "from sklearn.preprocessing import StandardScaler\n",
        "from sklearn.linear_model import LogisticRegression\n",
        "from sklearn.metrics import precision_score, recall_score, f1_score, classification_report\n",
        "\n",
        "# Step 1: Load dataset\n",
        "data = load_breast_cancer()\n",
        "X = data.data\n",
        "y = data.target\n",
        "\n",
        "# Step 2: Split dataset\n",
        "X_train, X_test, y_train, y_test = train_test_split(X, y, test_size=0.2, random_state=42)\n",
        "\n",
        "# Step 3: Feature scaling\n",
        "scaler = StandardScaler()\n",
        "X_train_scaled = scaler.fit_transform(X_train)\n",
        "X_test_scaled = scaler.transform(X_test)\n",
        "\n",
        "# Step 4: Train Logistic Regression\n",
        "model = LogisticRegression(max_iter=1000)\n",
        "model.fit(X_train_scaled, y_train)\n",
        "\n",
        "# Step 5: Predict\n",
        "y_pred = model.predict(X_test_scaled)\n",
        "\n",
        "# Step 6: Evaluate performance\n",
        "precision = precision_score(y_test, y_pred)\n",
        "recall = recall_score(y_test, y_pred)\n",
        "f1 = f1_score(y_test, y_pred)\n",
        "\n",
        "print(\"Precision: {:.2f}\".format(precision))\n",
        "print(\"Recall: {:.2f}\".format(recall))\n",
        "print(\"F1-Score: {:.2f}\".format(f1))\n",
        "\n",
        "# Optional: Detailed classification report\n",
        "print(\"\\nClassification Report:\\n\")\n",
        "print(classification_report(y_test, y_pred, target_names=data.target_names))\n",
        "\n",
        "\n"
      ],
      "metadata": {
        "colab": {
          "base_uri": "https://localhost:8080/"
        },
        "id": "601ouQS6RQ-G",
        "outputId": "f424c912-3ae4-4229-da03-cf4b28ce3b61"
      },
      "execution_count": 37,
      "outputs": [
        {
          "output_type": "stream",
          "name": "stdout",
          "text": [
            "Precision: 0.97\n",
            "Recall: 0.99\n",
            "F1-Score: 0.98\n",
            "\n",
            "Classification Report:\n",
            "\n",
            "              precision    recall  f1-score   support\n",
            "\n",
            "   malignant       0.98      0.95      0.96        43\n",
            "      benign       0.97      0.99      0.98        71\n",
            "\n",
            "    accuracy                           0.97       114\n",
            "   macro avg       0.97      0.97      0.97       114\n",
            "weighted avg       0.97      0.97      0.97       114\n",
            "\n"
          ]
        }
      ]
    },
    {
      "cell_type": "code",
      "source": [
        "#Q.13  Write a Python program to train a Logistic Regression model on imbalanced data and apply class weights to\n",
        "# improve model performance.\n",
        "\n",
        "from sklearn.datasets import make_classification\n",
        "from sklearn.model_selection import train_test_split\n",
        "from sklearn.linear_model import LogisticRegression\n",
        "from sklearn.preprocessing import StandardScaler\n",
        "from sklearn.metrics import classification_report, confusion_matrix\n",
        "import matplotlib.pyplot as plt\n",
        "import seaborn as sns\n",
        "\n",
        "# Step 1: Create imbalanced binary classification data\n",
        "X, y = make_classification(n_samples=1000,\n",
        "                           n_features=10,\n",
        "                           n_classes=2,\n",
        "                           weights=[0.9, 0.1],  # 90% of class 0, 10% of class 1\n",
        "                           flip_y=0,\n",
        "                           random_state=42)\n",
        "\n",
        "# Step 2: Split into training and test sets\n",
        "X_train, X_test, y_train, y_test = train_test_split(X, y, test_size=0.2, random_state=42)\n",
        "\n",
        "# Step 3: Scale the features\n",
        "scaler = StandardScaler()\n",
        "X_train = scaler.fit_transform(X_train)\n",
        "X_test = scaler.transform(X_test)\n",
        "\n",
        "# Step 4: Train logistic regression with class_weight\n",
        "model = LogisticRegression(class_weight='balanced', max_iter=1000)\n",
        "model.fit(X_train, y_train)\n",
        "\n",
        "# Step 5: Predict and evaluate\n",
        "y_pred = model.predict(X_test)\n",
        "\n",
        "# Step 6: Print classification metrics\n",
        "print(\"Classification Report:\\n\")\n",
        "print(classification_report(y_test, y_pred))\n",
        "\n",
        "# Step 7: Confusion Matrix\n",
        "cm = confusion_matrix(y_test, y_pred)\n",
        "sns.heatmap(cm, annot=True, fmt='d', cmap='Blues')\n",
        "plt.xlabel('Predicted')\n",
        "plt.ylabel('Actual')\n",
        "plt.title('Confusion Matrix')\n",
        "plt.show()\n",
        "\n"
      ],
      "metadata": {
        "colab": {
          "base_uri": "https://localhost:8080/",
          "height": 663
        },
        "id": "yAOJeHv_RRBV",
        "outputId": "b5cf18de-4198-4b43-feb5-2c25755a1ea2"
      },
      "execution_count": 38,
      "outputs": [
        {
          "output_type": "stream",
          "name": "stdout",
          "text": [
            "Classification Report:\n",
            "\n",
            "              precision    recall  f1-score   support\n",
            "\n",
            "           0       0.98      0.89      0.93       179\n",
            "           1       0.47      0.81      0.60        21\n",
            "\n",
            "    accuracy                           0.89       200\n",
            "   macro avg       0.72      0.85      0.76       200\n",
            "weighted avg       0.92      0.89      0.90       200\n",
            "\n"
          ]
        },
        {
          "output_type": "display_data",
          "data": {
            "text/plain": [
              "<Figure size 640x480 with 2 Axes>"
            ],
            "image/png": "[encoded data removed]"
          },
          "metadata": {}
        }
      ]
    },
    {
      "cell_type": "code",
      "source": [
        "#Q.14  Write a Python program to train Logistic Regression on the Titanic dataset, handle missing values, and\n",
        "# evaluate performance.\n",
        "\n",
        "import pandas as pd\n",
        "from sklearn.model_selection import train_test_split\n",
        "from sklearn.linear_model import LogisticRegression\n",
        "from sklearn.metrics import classification_report, accuracy_score\n",
        "from sklearn.preprocessing import LabelEncoder, StandardScaler\n",
        "from sklearn.impute import SimpleImputer\n",
        "\n",
        "# Step 1: Load Titanic dataset\n",
        "# You can also use: df = pd.read_csv('titanic.csv')\n",
        "df = pd.read_csv(\"https://raw.githubusercontent.com/datasciencedojo/datasets/master/titanic.csv\")\n",
        "\n",
        "# Step 2: Drop columns not useful for modeling\n",
        "df = df.drop(columns=['PassengerId', 'Name', 'Ticket', 'Cabin'], errors='ignore')\n",
        "\n",
        "# Step 3: Handle missing values\n",
        "# For numeric columns: use mean imputation\n",
        "num_imputer = SimpleImputer(strategy='mean')\n",
        "df[['Age', 'Fare']] = num_imputer.fit_transform(df[['Age', 'Fare']])\n",
        "\n",
        "# For categorical columns: fill with mode\n",
        "df['Embarked'] = df['Embarked'].fillna(df['Embarked'].mode()[0])\n",
        "\n",
        "# Step 4: Encode categorical variables\n",
        "le = LabelEncoder()\n",
        "df['Sex'] = le.fit_transform(df['Sex'])          # male=1, female=0\n",
        "df['Embarked'] = le.fit_transform(df['Embarked'])  # C=0, Q=1, S=2\n",
        "\n",
        "# Step 5: Set features and target\n",
        "X = df.drop(columns=['Survived'])\n",
        "y = df['Survived']\n",
        "\n",
        "# Step 6: Split into training/testing\n",
        "X_train, X_test, y_train, y_test = train_test_split(X, y, test_size=0.2, random_state=42)\n",
        "\n",
        "# Step 7: Feature scaling\n",
        "scaler = StandardScaler()\n",
        "X_train = scaler.fit_transform(X_train)\n",
        "X_test = scaler.transform(X_test)\n",
        "\n",
        "# Step 8: Train Logistic Regression model\n",
        "model = LogisticRegression(max_iter=1000)\n",
        "model.fit(X_train, y_train)\n",
        "\n",
        "# Step 9: Predict and evaluate\n",
        "y_pred = model.predict(X_test)\n",
        "print(\"Accuracy: {:.2f}%\".format(accuracy_score(y_test, y_pred) * 100))\n",
        "print(\"\\nClassification Report:\\n\")\n",
        "print(classification_report(y_test, y_pred))\n"
      ],
      "metadata": {
        "colab": {
          "base_uri": "https://localhost:8080/"
        },
        "id": "51PwKL4JRREt",
        "outputId": "03589b27-c9d3-40aa-9470-9f78268fbdb3"
      },
      "execution_count": 40,
      "outputs": [
        {
          "output_type": "stream",
          "name": "stdout",
          "text": [
            "Accuracy: 81.01%\n",
            "\n",
            "Classification Report:\n",
            "\n",
            "              precision    recall  f1-score   support\n",
            "\n",
            "           0       0.83      0.86      0.84       105\n",
            "           1       0.79      0.74      0.76        74\n",
            "\n",
            "    accuracy                           0.81       179\n",
            "   macro avg       0.81      0.80      0.80       179\n",
            "weighted avg       0.81      0.81      0.81       179\n",
            "\n"
          ]
        }
      ]
    },
    {
      "cell_type": "code",
      "source": [
        "#Q.15  Write a Python program to apply feature scaling (Standardization) before training a Logistic Regression\n",
        "# model. Evaluate its accuracy and compare results with and without scaling.\n",
        "\n",
        "from sklearn.datasets import load_breast_cancer\n",
        "from sklearn.linear_model import LogisticRegression\n",
        "from sklearn.model_selection import train_test_split\n",
        "from sklearn.metrics import accuracy_score\n",
        "from sklearn.preprocessing import StandardScaler\n",
        "\n",
        "# Step 1: Load dataset\n",
        "data = load_breast_cancer()\n",
        "X = data.data\n",
        "y = data.target\n",
        "\n",
        "# Step 2: Train-test split\n",
        "X_train, X_test, y_train, y_test = train_test_split(X, y, test_size=0.2, random_state=42)\n",
        "\n",
        "# Step 3: Logistic Regression without scaling\n",
        "model_no_scaling = LogisticRegression(max_iter=1000)\n",
        "model_no_scaling.fit(X_train, y_train)\n",
        "y_pred_no_scaling = model_no_scaling.predict(X_test)\n",
        "acc_no_scaling = accuracy_score(y_test, y_pred_no_scaling)\n",
        "\n",
        "# Step 4: Apply standardization (scaling)\n",
        "scaler = StandardScaler()\n",
        "X_train_scaled = scaler.fit_transform(X_train)\n",
        "X_test_scaled = scaler.transform(X_test)\n",
        "\n",
        "# Step 5: Logistic Regression with scaling\n",
        "model_scaled = LogisticRegression(max_iter=1000)\n",
        "model_scaled.fit(X_train_scaled, y_train)\n",
        "y_pred_scaled = model_scaled.predict(X_test_scaled)\n",
        "acc_scaled = accuracy_score(y_test, y_pred_scaled)\n",
        "\n",
        "# Step 6: Print results\n",
        "print(\"Accuracy WITHOUT Scaling: {:.2f}%\".format(acc_no_scaling * 100))\n",
        "print(\"Accuracy WITH Scaling: {:.2f}%\".format(acc_scaled * 100))\n"
      ],
      "metadata": {
        "colab": {
          "base_uri": "https://localhost:8080/"
        },
        "id": "E3Bu1fpjRRIG",
        "outputId": "cd1f2d06-d0a8-4087-856a-726a187a2da5"
      },
      "execution_count": 41,
      "outputs": [
        {
          "output_type": "stream",
          "name": "stdout",
          "text": [
            "Accuracy WITHOUT Scaling: 95.61%\n",
            "Accuracy WITH Scaling: 97.37%\n"
          ]
        },
        {
          "output_type": "stream",
          "name": "stderr",
          "text": [
            "/usr/local/lib/python3.11/dist-packages/sklearn/linear_model/_logistic.py:465: ConvergenceWarning: lbfgs failed to converge (status=1):\n",
            "STOP: TOTAL NO. OF ITERATIONS REACHED LIMIT.\n",
            "\n",
            "Increase the number of iterations (max_iter) or scale the data as shown in:\n",
            "    https://scikit-learn.org/stable/modules/preprocessing.html\n",
            "Please also refer to the documentation for alternative solver options:\n",
            "    https://scikit-learn.org/stable/modules/linear_model.html#logistic-regression\n",
            "  n_iter_i = _check_optimize_result(\n"
          ]
        }
      ]
    },
    {
      "cell_type": "code",
      "source": [
        "#Q.16  Write a Python program to train Logistic Regression and evaluate its performance using ROC-AUC score.\n",
        "\n",
        "from sklearn.datasets import load_breast_cancer\n",
        "from sklearn.model_selection import train_test_split\n",
        "from sklearn.linear_model import LogisticRegression\n",
        "from sklearn.preprocessing import StandardScaler\n",
        "from sklearn.metrics import roc_auc_score, roc_curve\n",
        "import matplotlib.pyplot as plt\n",
        "\n",
        "# Step 1: Load dataset\n",
        "data = load_breast_cancer()\n",
        "X = data.data\n",
        "y = data.target\n",
        "\n",
        "# Step 2: Split into train/test sets\n",
        "X_train, X_test, y_train, y_test = train_test_split(X, y, test_size=0.2, random_state=42)\n",
        "\n",
        "# Step 3: Feature scaling\n",
        "scaler = StandardScaler()\n",
        "X_train = scaler.fit_transform(X_train)\n",
        "X_test = scaler.transform(X_test)\n",
        "\n",
        "# Step 4: Train Logistic Regression model\n",
        "model = LogisticRegression(max_iter=1000)\n",
        "model.fit(X_train, y_train)\n",
        "\n",
        "# Step 5: Predict probabilities for ROC-AUC\n",
        "y_probs = model.predict_proba(X_test)[:, 1]  # probability for class 1\n",
        "\n",
        "# Step 6: Compute ROC-AUC score\n",
        "roc_auc = roc_auc_score(y_test, y_probs)\n",
        "print(\"ROC-AUC Score: {:.2f}\".format(roc_auc))\n",
        "\n",
        "# Step 7: Plot ROC Curve\n",
        "fpr, tpr, _ = roc_curve(y_test, y_probs)\n",
        "plt.plot(fpr, tpr, label=f\"ROC Curve (AUC = {roc_auc:.2f})\")\n",
        "plt.plot([0, 1], [0, 1], linestyle='--', color='gray')\n",
        "plt.xlabel(\"False Positive Rate\")\n",
        "plt.ylabel(\"True Positive Rate\")\n",
        "plt.title(\"ROC Curve - Logistic Regression\")\n",
        "plt.legend()\n",
        "plt.grid(True)\n",
        "plt.show()\n"
      ],
      "metadata": {
        "colab": {
          "base_uri": "https://localhost:8080/",
          "height": 489
        },
        "id": "G_7YnW7dRRLu",
        "outputId": "f407abd2-0134-426f-ae79-812179ce6f2f"
      },
      "execution_count": 43,
      "outputs": [
        {
          "output_type": "stream",
          "name": "stdout",
          "text": [
            "ROC-AUC Score: 1.00\n"
          ]
        },
        {
          "output_type": "display_data",
          "data": {
            "text/plain": [
              "<Figure size 640x480 with 1 Axes>"
            ],
            "image/png": "[encoded data removed]"
          },
          "metadata": {}
        }
      ]
    },
    {
      "cell_type": "code",
      "source": [
        "#Q.17  Write a Python program to train Logistic Regression using a custom learning rate (C=0.5) and evaluate\n",
        "#accuracy\n",
        "\n",
        "from sklearn.datasets import load_breast_cancer\n",
        "from sklearn.model_selection import train_test_split\n",
        "from sklearn.linear_model import LogisticRegression\n",
        "from sklearn.preprocessing import StandardScaler\n",
        "from sklearn.metrics import accuracy_score\n",
        "\n",
        "# Step 1: Load dataset\n",
        "data = load_breast_cancer()\n",
        "X = data.data\n",
        "y = data.target\n",
        "\n",
        "# Step 2: Split into train and test sets\n",
        "X_train, X_test, y_train, y_test = train_test_split(X, y, test_size=0.2, random_state=42)\n",
        "\n",
        "# Step 3: Feature scaling\n",
        "scaler = StandardScaler()\n",
        "X_train_scaled = scaler.fit_transform(X_train)\n",
        "X_test_scaled = scaler.transform(X_test)\n",
        "\n",
        "# Step 4: Train Logistic Regression with C=0.5\n",
        "model = LogisticRegression(C=0.5, max_iter=1000)\n",
        "model.fit(X_train_scaled, y_train)\n",
        "\n",
        "# Step 5: Predict and evaluate\n",
        "y_pred = model.predict(X_test_scaled)\n",
        "accuracy = accuracy_score(y_test, y_pred)\n",
        "\n",
        "# Step 6: Output result\n",
        "print(\"Logistic Regression Accuracy with C=0.5: {:.2f}%\".format(accuracy * 100))\n"
      ],
      "metadata": {
        "colab": {
          "base_uri": "https://localhost:8080/"
        },
        "id": "MGs0gZDDRRPd",
        "outputId": "95f946a6-d2b9-452e-8169-8fbbe84e81e1"
      },
      "execution_count": 44,
      "outputs": [
        {
          "output_type": "stream",
          "name": "stdout",
          "text": [
            "Logistic Regression Accuracy with C=0.5: 97.37%\n"
          ]
        }
      ]
    },
    {
      "cell_type": "code",
      "source": [
        "#Q.18  Write a Python program to train Logistic Regression and identify important features based on model\n",
        "# coefficients.\n",
        "\n",
        "import pandas as pd\n",
        "from sklearn.datasets import load_breast_cancer\n",
        "from sklearn.model_selection import train_test_split\n",
        "from sklearn.linear_model import LogisticRegression\n",
        "from sklearn.preprocessing import StandardScaler\n",
        "import matplotlib.pyplot as plt\n",
        "import numpy as np\n",
        "\n",
        "# Step 1: Load dataset\n",
        "data = load_breast_cancer()\n",
        "X = data.data\n",
        "y = data.target\n",
        "feature_names = data.feature_names\n",
        "\n",
        "# Step 2: Split into train/test\n",
        "X_train, X_test, y_train, y_test = train_test_split(X, y, test_size=0.2, random_state=42)\n",
        "\n",
        "# Step 3: Scale features\n",
        "scaler = StandardScaler()\n",
        "X_train_scaled = scaler.fit_transform(X_train)\n",
        "X_test_scaled = scaler.transform(X_test)\n",
        "\n",
        "# Step 4: Train logistic regression model\n",
        "model = LogisticRegression(max_iter=1000)\n",
        "model.fit(X_train_scaled, y_train)\n",
        "\n",
        "# Step 5: Extract feature importance from coefficients\n",
        "coefficients = model.coef_[0]  # 1D array of feature weights\n",
        "feature_importance = pd.Series(coefficients, index=feature_names).sort_values(key=abs, ascending=False)\n",
        "\n",
        "# Step 6: Display top features\n",
        "print(\"Top important features based on Logistic Regression coefficients:\")\n",
        "print(feature_importance.head(10))\n",
        "\n",
        "# Optional: Visualize feature importances\n",
        "plt.figure(figsize=(10, 6))\n",
        "feature_importance.head(10).plot(kind='barh')\n",
        "plt.title(\"Top 10 Important Features (Absolute Coefficients)\")\n",
        "plt.xlabel(\"Coefficient Value\")\n",
        "plt.gca().invert_yaxis()\n",
        "plt.tight_layout()\n",
        "plt.show()\n"
      ],
      "metadata": {
        "colab": {
          "base_uri": "https://localhost:8080/",
          "height": 815
        },
        "id": "NII0C-0WRRSt",
        "outputId": "a1e3b8ae-a8f8-4c4f-8aff-001022b706cb"
      },
      "execution_count": 46,
      "outputs": [
        {
          "output_type": "stream",
          "name": "stdout",
          "text": [
            "Top important features based on Logistic Regression coefficients:\n",
            "worst texture          -1.350606\n",
            "radius error           -1.268178\n",
            "worst symmetry         -1.208200\n",
            "mean concave points    -1.119804\n",
            "worst concavity        -0.943053\n",
            "area error             -0.907186\n",
            "worst radius           -0.879840\n",
            "worst area             -0.841846\n",
            "mean concavity         -0.801458\n",
            "worst concave points   -0.778217\n",
            "dtype: float64\n"
          ]
        },
        {
          "output_type": "display_data",
          "data": {
            "text/plain": [
              "<Figure size 1000x600 with 1 Axes>"
            ],
            "image/png": "[encoded data removed]"
          },
          "metadata": {}
        }
      ]
    },
    {
      "cell_type": "code",
      "source": [
        "#Q.19  Write a Python program to train Logistic Regression and evaluate its performance using Cohen’s Kappa\n",
        "# Score.\n",
        "\n",
        "from sklearn.datasets import load_breast_cancer\n",
        "from sklearn.linear_model import LogisticRegression\n",
        "from sklearn.model_selection import train_test_split\n",
        "from sklearn.preprocessing import StandardScaler\n",
        "from sklearn.metrics import cohen_kappa_score\n",
        "\n",
        "# Step 1: Load dataset\n",
        "data = load_breast_cancer()\n",
        "X = data.data\n",
        "y = data.target\n",
        "\n",
        "# Step 2: Train-test split\n",
        "X_train, X_test, y_train, y_test = train_test_split(X, y, test_size=0.2, random_state=42)\n",
        "\n",
        "# Step 3: Scale the features\n",
        "scaler = StandardScaler()\n",
        "X_train_scaled = scaler.fit_transform(X_train)\n",
        "X_test_scaled = scaler.transform(X_test)\n",
        "\n",
        "# Step 4: Train logistic regression model\n",
        "model = LogisticRegression(max_iter=1000)\n",
        "model.fit(X_train_scaled, y_train)\n",
        "\n",
        "# Step 5: Predict on test set\n",
        "y_pred = model.predict(X_test_scaled)\n",
        "\n",
        "# Step 6: Calculate Cohen’s Kappa Score\n",
        "kappa_score = cohen_kappa_score(y_test, y_pred)\n",
        "\n",
        "# Step 7: Display the result\n",
        "print(\"Cohen’s Kappa Score: {:.4f}\".format(kappa_score))\n",
        "\n",
        "\n"
      ],
      "metadata": {
        "colab": {
          "base_uri": "https://localhost:8080/"
        },
        "id": "PV4E_grKRRWN",
        "outputId": "6ccd6cec-a4f9-45a2-c1f5-2019f4109abf"
      },
      "execution_count": 47,
      "outputs": [
        {
          "output_type": "stream",
          "name": "stdout",
          "text": [
            "Cohen’s Kappa Score: 0.9437\n"
          ]
        }
      ]
    },
    {
      "cell_type": "code",
      "source": [
        "# Q.20  Write a Python program to train Logistic Regression and visualize the Precision-Recall Curve for binary\n",
        "# classification.\n",
        "\n",
        "import matplotlib.pyplot as plt\n",
        "from sklearn.datasets import load_breast_cancer\n",
        "from sklearn.linear_model import LogisticRegression\n",
        "from sklearn.model_selection import train_test_split\n",
        "from sklearn.preprocessing import StandardScaler\n",
        "from sklearn.metrics import precision_recall_curve, average_precision_score\n",
        "\n",
        "# Step 1: Load binary classification dataset\n",
        "data = load_breast_cancer()\n",
        "X = data.data\n",
        "y = data.target\n",
        "\n",
        "# Step 2: Train-test split\n",
        "X_train, X_test, y_train, y_test = train_test_split(X, y, test_size=0.2, random_state=42)\n",
        "\n",
        "# Step 3: Feature scaling\n",
        "scaler = StandardScaler()\n",
        "X_train_scaled = scaler.fit_transform(X_train)\n",
        "X_test_scaled = scaler.transform(X_test)\n",
        "\n",
        "# Step 4: Train logistic regression model\n",
        "model = LogisticRegression(max_iter=1000)\n",
        "model.fit(X_train_scaled, y_train)\n",
        "\n",
        "# Step 5: Predict probabilities\n",
        "y_scores = model.predict_proba(X_test_scaled)[:, 1]\n",
        "\n",
        "# Step 6: Compute precision-recall values\n",
        "precision, recall, _ = precision_recall_curve(y_test, y_scores)\n",
        "average_precision = average_precision_score(y_test, y_scores)\n",
        "\n",
        "# Step 7: Plot precision-recall curve\n",
        "plt.figure(figsize=(8, 5))\n",
        "plt.plot(recall, precision, label=f'AP = {average_precision:.2f}')\n",
        "plt.xlabel('Recall')\n",
        "plt.ylabel('Precision')\n",
        "plt.title('Precision-Recall Curve - Logistic Regression')\n",
        "plt.legend()\n",
        "plt.grid(True)\n",
        "plt.show()\n",
        "\n",
        "\n"
      ],
      "metadata": {
        "colab": {
          "base_uri": "https://localhost:8080/",
          "height": 487
        },
        "id": "EPRdgFxfRRZg",
        "outputId": "ba7cebed-38bc-4aa9-92a2-52b0ff011103"
      },
      "execution_count": 48,
      "outputs": [
        {
          "output_type": "display_data",
          "data": {
            "text/plain": [
              "<Figure size 800x500 with 1 Axes>"
            ],
            "image/png": "[encoded data removed]"
          },
          "metadata": {}
        }
      ]
    },
    {
      "cell_type": "code",
      "source": [
        "#Q.21  Write a Python program to train Logistic Regression with different solvers (liblinear, saga, lbfgs) and compare\n",
        "# their accuracy.\n",
        "\n",
        "from sklearn.datasets import load_breast_cancer\n",
        "from sklearn.linear_model import LogisticRegression\n",
        "from sklearn.model_selection import train_test_split\n",
        "from sklearn.preprocessing import StandardScaler\n",
        "from sklearn.metrics import accuracy_score\n",
        "\n",
        "# Step 1: Load dataset\n",
        "data = load_breast_cancer()\n",
        "X = data.data\n",
        "y = data.target\n",
        "\n",
        "# Step 2: Train-test split\n",
        "X_train, X_test, y_train, y_test = train_test_split(X, y, test_size=0.2, random_state=42)\n",
        "\n",
        "# Step 3: Feature scaling\n",
        "scaler = StandardScaler()\n",
        "X_train_scaled = scaler.fit_transform(X_train)\n",
        "X_test_scaled = scaler.transform(X_test)\n",
        "\n",
        "# Step 4: Define solvers to compare\n",
        "solvers = ['liblinear', 'saga', 'lbfgs']\n",
        "results = {}\n",
        "\n",
        "# Step 5: Train models with different solvers\n",
        "for solver in solvers:\n",
        "    try:\n",
        "        model = LogisticRegression(solver=solver, max_iter=1000)\n",
        "        model.fit(X_train_scaled, y_train)\n",
        "        y_pred = model.predict(X_test_scaled)\n",
        "        acc = accuracy_score(y_test, y_pred)\n",
        "        results[solver] = acc\n",
        "    except Exception as e:\n",
        "        results[solver] = f\"Error: {e}\"\n",
        "\n",
        "# Step 6: Print results\n",
        "print(\"Accuracy comparison of different solvers:\")\n",
        "for solver, result in results.items():\n",
        "    if isinstance(result, float):\n",
        "        print(f\"Solver: {solver.ljust(10)} -> Accuracy: {result:.2%}\")\n",
        "    else:\n",
        "        print(f\"Solver: {solver.ljust(10)} -> {result}\")\n"
      ],
      "metadata": {
        "colab": {
          "base_uri": "https://localhost:8080/"
        },
        "id": "w6v1oPGnRRdG",
        "outputId": "f9193783-faf0-4a9b-bace-1e0a10405490"
      },
      "execution_count": 49,
      "outputs": [
        {
          "output_type": "stream",
          "name": "stdout",
          "text": [
            "Accuracy comparison of different solvers:\n",
            "Solver: liblinear  -> Accuracy: 97.37%\n",
            "Solver: saga       -> Accuracy: 97.37%\n",
            "Solver: lbfgs      -> Accuracy: 97.37%\n"
          ]
        }
      ]
    },
    {
      "cell_type": "code",
      "source": [
        "#Q.22  Write a Python program to train Logistic Regression and evaluate its performance using Matthews\n",
        "# Correlation Coefficient (MCC).\n",
        "\n",
        "from sklearn.datasets import load_breast_cancer\n",
        "from sklearn.linear_model import LogisticRegression\n",
        "from sklearn.model_selection import train_test_split\n",
        "from sklearn.preprocessing import StandardScaler\n",
        "from sklearn.metrics import matthews_corrcoef\n",
        "\n",
        "# Step 1: Load the dataset\n",
        "data = load_breast_cancer()\n",
        "X = data.data\n",
        "y = data.target\n",
        "\n",
        "# Step 2: Split into training and testing sets\n",
        "X_train, X_test, y_train, y_test = train_test_split(X, y, test_size=0.2, random_state=42)\n",
        "\n",
        "# Step 3: Scale the features\n",
        "scaler = StandardScaler()\n",
        "X_train_scaled = scaler.fit_transform(X_train)\n",
        "X_test_scaled = scaler.transform(X_test)\n",
        "\n",
        "# Step 4: Train Logistic Regression model\n",
        "model = LogisticRegression(max_iter=1000)\n",
        "model.fit(X_train_scaled, y_train)\n",
        "\n",
        "# Step 5: Make predictions\n",
        "y_pred = model.predict(X_test_scaled)\n",
        "\n",
        "# Step 6: Evaluate with MCC\n",
        "mcc = matthews_corrcoef(y_test, y_pred)\n",
        "print(\"Matthews Correlation Coefficient (MCC): {:.4f}\".format(mcc))\n"
      ],
      "metadata": {
        "colab": {
          "base_uri": "https://localhost:8080/"
        },
        "id": "MdvKaKAoRRgb",
        "outputId": "8aaf3ea2-5387-4300-9c8d-b2fe2bd2c052"
      },
      "execution_count": 50,
      "outputs": [
        {
          "output_type": "stream",
          "name": "stdout",
          "text": [
            "Matthews Correlation Coefficient (MCC): 0.9439\n"
          ]
        }
      ]
    },
    {
      "cell_type": "code",
      "source": [
        "#Q.23  Write a Python program to train Logistic Regression on both raw and standardized data. Compare their\n",
        "# accuracy to see the impact of feature scaling.\n",
        "\n",
        "from sklearn.datasets import load_breast_cancer\n",
        "from sklearn.linear_model import LogisticRegression\n",
        "from sklearn.model_selection import train_test_split\n",
        "from sklearn.preprocessing import StandardScaler\n",
        "from sklearn.metrics import accuracy_score\n",
        "\n",
        "# Step 1: Load the dataset\n",
        "data = load_breast_cancer()\n",
        "X = data.data\n",
        "y = data.target\n",
        "\n",
        "# Step 2: Split into train/test sets\n",
        "X_train, X_test, y_train, y_test = train_test_split(X, y, test_size=0.2, random_state=42)\n",
        "\n",
        "# -------------------------------\n",
        "# Logistic Regression on RAW data\n",
        "# -------------------------------\n",
        "model_raw = LogisticRegression(max_iter=1000)\n",
        "model_raw.fit(X_train, y_train)\n",
        "y_pred_raw = model_raw.predict(X_test)\n",
        "acc_raw = accuracy_score(y_test, y_pred_raw)\n",
        "\n",
        "# ------------------------------------\n",
        "# Logistic Regression on SCALED data\n",
        "# ------------------------------------\n",
        "scaler = StandardScaler()\n",
        "X_train_scaled = scaler.fit_transform(X_train)\n",
        "X_test_scaled = scaler.transform(X_test)\n",
        "\n",
        "model_scaled = LogisticRegression(max_iter=1000)\n",
        "model_scaled.fit(X_train_scaled, y_train)\n",
        "y_pred_scaled = model_scaled.predict(X_test_scaled)\n",
        "acc_scaled = accuracy_score(y_test, y_pred_scaled)\n",
        "\n",
        "# -------------------------------\n",
        "# Compare Accuracy\n",
        "# -------------------------------\n",
        "print(\"Accuracy WITHOUT Scaling: {:.2f}%\".format(acc_raw * 100))\n",
        "print(\"Accuracy WITH Scaling   : {:.2f}%\".format(acc_scaled * 100))\n",
        "\n"
      ],
      "metadata": {
        "colab": {
          "base_uri": "https://localhost:8080/"
        },
        "id": "Pgb0Jp8YRRnV",
        "outputId": "583fa44f-71b5-4405-da30-d5c9962272dc"
      },
      "execution_count": 51,
      "outputs": [
        {
          "output_type": "stream",
          "name": "stdout",
          "text": [
            "Accuracy WITHOUT Scaling: 95.61%\n",
            "Accuracy WITH Scaling   : 97.37%\n"
          ]
        },
        {
          "output_type": "stream",
          "name": "stderr",
          "text": [
            "/usr/local/lib/python3.11/dist-packages/sklearn/linear_model/_logistic.py:465: ConvergenceWarning: lbfgs failed to converge (status=1):\n",
            "STOP: TOTAL NO. OF ITERATIONS REACHED LIMIT.\n",
            "\n",
            "Increase the number of iterations (max_iter) or scale the data as shown in:\n",
            "    https://scikit-learn.org/stable/modules/preprocessing.html\n",
            "Please also refer to the documentation for alternative solver options:\n",
            "    https://scikit-learn.org/stable/modules/linear_model.html#logistic-regression\n",
            "  n_iter_i = _check_optimize_result(\n"
          ]
        }
      ]
    },
    {
      "cell_type": "code",
      "source": [
        "#Q.24 Write a Python program to train Logistic Regression and find the optimal C (regularization strength) using\n",
        "# cross-validation.\n",
        "\n",
        "from sklearn.datasets import load_breast_cancer\n",
        "from sklearn.linear_model import LogisticRegression\n",
        "from sklearn.model_selection import GridSearchCV, train_test_split\n",
        "from sklearn.preprocessing import StandardScaler\n",
        "from sklearn.metrics import accuracy_score\n",
        "\n",
        "# Step 1: Load dataset\n",
        "data = load_breast_cancer()\n",
        "X = data.data\n",
        "y = data.target\n",
        "\n",
        "# Step 2: Train-test split\n",
        "X_train, X_test, y_train, y_test = train_test_split(X, y, test_size=0.2, random_state=42)\n",
        "\n",
        "# Step 3: Feature scaling\n",
        "scaler = StandardScaler()\n",
        "X_train_scaled = scaler.fit_transform(X_train)\n",
        "X_test_scaled = scaler.transform(X_test)\n",
        "\n",
        "# Step 4: Define Logistic Regression and parameter grid\n",
        "model = LogisticRegression(max_iter=1000, solver='liblinear')  # 'liblinear' supports small datasets\n",
        "param_grid = {\n",
        "    'C': [0.01, 0.1, 0.5, 1, 5, 10, 50, 100]  # Try a range of regularization strengths\n",
        "}\n",
        "\n",
        "# Step 5: Apply GridSearchCV with cross-validation\n",
        "grid_search = GridSearchCV(model, param_grid, cv=5, scoring='accuracy')\n",
        "grid_search.fit(X_train_scaled, y_train)\n",
        "\n",
        "# Step 6: Best parameters and accuracy\n",
        "best_model = grid_search.best_estimator_\n",
        "y_pred = best_model.predict(X_test_scaled)\n",
        "accuracy = accuracy_score(y_test, y_pred)\n",
        "\n",
        "print(\"Best C (Regularization Strength):\", grid_search.best_params_['C'])\n",
        "print(\"Test Accuracy with Best C: {:.2f}%\".format(accuracy * 100))\n"
      ],
      "metadata": {
        "colab": {
          "base_uri": "https://localhost:8080/"
        },
        "id": "Yx54Mhk0RRsV",
        "outputId": "4aef5392-3298-4948-bd99-f7aa07eda45c"
      },
      "execution_count": 52,
      "outputs": [
        {
          "output_type": "stream",
          "name": "stdout",
          "text": [
            "Best C (Regularization Strength): 0.1\n",
            "Test Accuracy with Best C: 99.12%\n"
          ]
        }
      ]
    },
    {
      "cell_type": "code",
      "source": [
        "#Q.25  Write a Python program to train Logistic Regression, save the trained model using joblib, and load it again to\n",
        "#make predictions.\n",
        "\n",
        "import joblib\n",
        "from sklearn.datasets import load_breast_cancer\n",
        "from sklearn.linear_model import LogisticRegression\n",
        "from sklearn.preprocessing import StandardScaler\n",
        "from sklearn.model_selection import train_test_split\n",
        "from sklearn.metrics import accuracy_score\n",
        "\n",
        "# Step 1: Load dataset\n",
        "data = load_breast_cancer()\n",
        "X = data.data\n",
        "y = data.target\n",
        "\n",
        "# Step 2: Train-test split\n",
        "X_train, X_test, y_train, y_test = train_test_split(X, y, test_size=0.2, random_state=42)\n",
        "\n",
        "# Step 3: Feature scaling\n",
        "scaler = StandardScaler()\n",
        "X_train_scaled = scaler.fit_transform(X_train)\n",
        "X_test_scaled = scaler.transform(X_test)\n",
        "\n",
        "# Step 4: Train Logistic Regression\n",
        "model = LogisticRegression(max_iter=1000)\n",
        "model.fit(X_train_scaled, y_train)\n",
        "\n",
        "# Step 5: Save model and scaler using joblib\n",
        "joblib.dump(model, \"logistic_model.pkl\")\n",
        "joblib.dump(scaler, \"scaler.pkl\")\n",
        "\n",
        "print(\"Model and scaler saved successfully.\")\n",
        "\n",
        "# Step 6: Load model and scaler\n",
        "loaded_model = joblib.load(\"logistic_model.pkl\")\n",
        "loaded_scaler = joblib.load(\"scaler.pkl\")\n",
        "\n",
        "# Step 7: Make prediction using loaded model\n",
        "X_new_scaled = loaded_scaler.transform(X_test)  # scale test data again using saved scaler\n",
        "y_pred = loaded_model.predict(X_new_scaled)\n",
        "accuracy = accuracy_score(y_test, y_pred)\n",
        "\n",
        "print(\"Accuracy of loaded model: {:.2f}%\".format(accuracy * 100))\n"
      ],
      "metadata": {
        "colab": {
          "base_uri": "https://localhost:8080/"
        },
        "id": "qqeCquI1RRz8",
        "outputId": "1c787ea7-b639-4be1-c074-eafaec301c9d"
      },
      "execution_count": 53,
      "outputs": [
        {
          "output_type": "stream",
          "name": "stdout",
          "text": [
            "Model and scaler saved successfully.\n",
            "Accuracy of loaded model: 97.37%\n"
          ]
        }
      ]
    },
    {
      "cell_type": "code",
      "source": [],
      "metadata": {
        "id": "AEiQxMjYRR4B"
      },
      "execution_count": null,
      "outputs": []
    },
    {
      "cell_type": "code",
      "source": [],
      "metadata": {
        "id": "Awf0gW3JRR7M"
      },
      "execution_count": null,
      "outputs": []
    },
    {
      "cell_type": "code",
      "source": [],
      "metadata": {
        "id": "BD8mXgJORR-g"
      },
      "execution_count": null,
      "outputs": []
    },
    {
      "cell_type": "code",
      "source": [],
      "metadata": {
        "id": "MK-MBy5ERSBp"
      },
      "execution_count": null,
      "outputs": []
    }
  ]
}